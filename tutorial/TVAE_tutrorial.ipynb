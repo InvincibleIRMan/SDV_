{
 "cells": [
  {
   "cell_type": "markdown",
   "id": "ce194170",
   "metadata": {},
   "source": [
    "# TVAE Tutorial\n",
    "This notebook demonstrates a simple Variational Autoencoder (VAE) on a small mixed-type tabular dataset."
   ]
  },
  {
   "cell_type": "code",
   "execution_count": null,
   "id": "714caff2",
   "metadata": {},
   "outputs": [],
   "source": [
    "#!/usr/bin/env python3\n",
    "\"\"\"Demonstration of a simple Tabular VAE for mixed data.\n",
    "\n",
    "This script builds a small toy dataset containing continuous and\n",
    "categorical features, preprocesses them, defines a Variational\n",
    "Autoencoder that embeds the categorical inputs, and runs a short\n",
    "training loop. It can be used as a quick tutorial to understand how to\n",
    "model tabular data with a VAE.\n",
    "\"\"\"\n",
    "\n",
    "import numpy as np\n",
    "import pandas as pd\n",
    "import torch\n",
    "import torch.nn as nn\n",
    "from sklearn.model_selection import train_test_split\n",
    "from sklearn.preprocessing import LabelEncoder, StandardScaler"
   ]
  },
  {
   "cell_type": "code",
   "execution_count": null,
   "id": "5db73fcd",
   "metadata": {},
   "outputs": [],
   "source": [
    "# 1. Create a toy tabular dataset"
   ]
  },
  {
   "cell_type": "code",
   "execution_count": null,
   "id": "0e9b2b6b",
   "metadata": {},
   "outputs": [],
   "source": [
    "def create_toy_data(n=200, seed=42):\n",
    "    \"\"\"Return a small synthetic dataset with mixed feature types.\"\"\"\n",
    "    rng = np.random.default_rng(seed)\n",
    "    return pd.DataFrame({\n",
    "        'age': rng.integers(20, 65, size=n),\n",
    "        'salary': (50_000 + 12_000 * rng.standard_normal(size=n)).round(),\n",
    "        'gender': rng.choice(['Male', 'Female'], size=n),\n",
    "        'department': rng.choice(['sales', 'engineering', 'finance'], size=n),\n",
    "    })\n",
    "\n",
    "\n",
    "df = create_toy_data()\n",
    "categorical = ['gender', 'department']\n",
    "continuous = ['age', 'salary']"
   ]
  },
  {
   "cell_type": "code",
   "execution_count": null,
   "id": "4ad844d7",
   "metadata": {},
   "outputs": [],
   "source": [
    "# 2. Preprocess features"
   ]
  },
  {
   "cell_type": "code",
   "execution_count": null,
   "id": "496eb1bb",
   "metadata": {},
   "outputs": [],
   "source": [
    "scaler = StandardScaler().fit(df[continuous])\n",
    "cont_arr = scaler.transform(df[continuous]).astype(np.float32)\n",
    "\n",
    "encoders = {col: LabelEncoder().fit(df[col]) for col in categorical}\n",
    "cat_arr = np.stack(\n",
    "    [encoders[c].transform(df[c]) for c in categorical],\n",
    "    axis=1,\n",
    ").astype(np.int64)\n",
    "\n",
    "cont_train, cont_val, cat_train, cat_val = train_test_split(\n",
    "    cont_arr,\n",
    "    cat_arr,\n",
    "    test_size=0.2,\n",
    "    random_state=42,\n",
    ")\n",
    "\n",
    "\n",
    "def yield_batches(arr1, arr2, batch_size):\n",
    "    \"\"\"Yield mini-batches from two aligned arrays.\"\"\"\n",
    "    for i in range(0, len(arr1), batch_size):\n",
    "        yield arr1[i : i + batch_size], arr2[i : i + batch_size]"
   ]
  },
  {
   "cell_type": "code",
   "execution_count": null,
   "id": "a0f71493",
   "metadata": {},
   "outputs": [],
   "source": [
    "# 3. VAE model"
   ]
  },
  {
   "cell_type": "code",
   "execution_count": null,
   "id": "a1aecb0b",
   "metadata": {},
   "outputs": [],
   "source": [
    "class MixedTabularVAE(nn.Module):\n",
    "    \"\"\"Variational Autoencoder for mixed continuous and categorical data.\"\"\"\n",
    "\n",
    "    def __init__(self, cont_dim, cat_dims, emb_sizes, latent_dim=8):\n",
    "        \"\"\"Initialize the network layers.\"\"\"\n",
    "        super().__init__()\n",
    "        self.embeddings = nn.ModuleList([\n",
    "            nn.Embedding(cat_dim, emb_size) for cat_dim, emb_size in zip(cat_dims, emb_sizes)\n",
    "        ])\n",
    "        input_dim = cont_dim + sum(emb_sizes)\n",
    "\n",
    "        self.fc1 = nn.Linear(input_dim, 128)\n",
    "        self.fc_mu = nn.Linear(128, latent_dim)\n",
    "        self.fc_logvar = nn.Linear(128, latent_dim)\n",
    "\n",
    "        self.fc3 = nn.Linear(latent_dim, 128)\n",
    "        self.fc4 = nn.Linear(128, input_dim)\n",
    "\n",
    "    def encode(self, cont_x, cat_x):\n",
    "        \"\"\"Encode inputs into latent parameters.\"\"\"\n",
    "        emb = [emb_layer(cat_x[:, i]) for i, emb_layer in enumerate(self.embeddings)]\n",
    "        x = torch.cat([cont_x] + emb, dim=1)\n",
    "        h = torch.relu(self.fc1(x))\n",
    "        return self.fc_mu(h), self.fc_logvar(h)\n",
    "\n",
    "    def reparameterize(self, mu, logvar):\n",
    "        \"\"\"Sample from the latent space using the reparameterization trick.\"\"\"\n",
    "        std = torch.exp(0.5 * logvar)\n",
    "        eps = torch.randn_like(std)\n",
    "        return mu + eps * std\n",
    "\n",
    "    def decode(self, z):\n",
    "        \"\"\"Decode latent samples back to the input space.\"\"\"\n",
    "        h = torch.relu(self.fc3(z))\n",
    "        return self.fc4(h)\n",
    "\n",
    "    def forward(self, cont_x, cat_x):\n",
    "        \"\"\"Run a forward pass through the network.\"\"\"\n",
    "        mu, logvar = self.encode(cont_x, cat_x)\n",
    "        z = self.reparameterize(mu, logvar)\n",
    "        recon = self.decode(z)\n",
    "        return recon, mu, logvar"
   ]
  },
  {
   "cell_type": "code",
   "execution_count": null,
   "id": "ee1ef049",
   "metadata": {},
   "outputs": [],
   "source": [
    "# 4. Training setup"
   ]
  },
  {
   "cell_type": "code",
   "execution_count": null,
   "id": "9943dfda",
   "metadata": {},
   "outputs": [],
   "source": [
    "cont_dim = len(continuous)\n",
    "cat_dims = [len(encoders[c].classes_) for c in categorical]\n",
    "emb_sizes = [min(50, (dim + 1) // 2) for dim in cat_dims]\n",
    "\n",
    "model = MixedTabularVAE(cont_dim, cat_dims, emb_sizes, latent_dim=10)\n",
    "optimizer = torch.optim.Adam(model.parameters(), lr=1e-3)\n",
    "\n",
    "\n",
    "def loss_fn(recon, target, mu, logvar):\n",
    "    \"\"\"Return the VAE loss for a batch.\"\"\"\n",
    "    mse = nn.MSELoss(reduction='sum')(recon, target)\n",
    "    kld = -0.5 * torch.sum(1 + logvar - mu.pow(2) - logvar.exp())\n",
    "    return mse + kld"
   ]
  },
  {
   "cell_type": "code",
   "execution_count": null,
   "id": "bcd99523",
   "metadata": {},
   "outputs": [],
   "source": [
    "# 5. Training loop"
   ]
  },
  {
   "cell_type": "code",
   "execution_count": null,
   "id": "26dcc3cf",
   "metadata": {},
   "outputs": [],
   "source": [
    "n_epochs = 30\n",
    "batch_size = 32\n",
    "\n",
    "for epoch in range(n_epochs):\n",
    "    model.train()\n",
    "    train_loss = 0.0\n",
    "    for xb_cont, xb_cat in yield_batches(cont_train, cat_train, batch_size):\n",
    "        xb_cont = torch.tensor(xb_cont)\n",
    "        xb_cat = torch.tensor(xb_cat)\n",
    "        optimizer.zero_grad()\n",
    "        recon, mu, logvar = model(xb_cont, xb_cat)\n",
    "        emb_inputs = [model.embeddings[i](xb_cat[:, i]) for i in range(len(model.embeddings))]\n",
    "        x = torch.cat([xb_cont] + emb_inputs, dim=1)\n",
    "        loss = loss_fn(recon, x, mu, logvar)\n",
    "        loss.backward()\n",
    "        train_loss += loss.item()\n",
    "        optimizer.step()\n",
    "\n",
    "    model.eval()\n",
    "    val_loss = 0.0\n",
    "    with torch.no_grad():\n",
    "        for xb_cont, xb_cat in yield_batches(cont_val, cat_val, batch_size):\n",
    "            xb_cont = torch.tensor(xb_cont)\n",
    "            xb_cat = torch.tensor(xb_cat)\n",
    "            recon, mu, logvar = model(xb_cont, xb_cat)\n",
    "            emb_inputs = [model.embeddings[i](xb_cat[:, i]) for i in range(len(model.embeddings))]\n",
    "            x = torch.cat([xb_cont] + emb_inputs, dim=1)\n",
    "            val_loss += loss_fn(recon, x, mu, logvar).item()\n",
    "\n",
    "    print(  # noqa: T201\n",
    "        f'Epoch {epoch + 1:02d} | '\n",
    "        f'Train Loss: {train_loss / len(cont_train):.4f} | '\n",
    "        f'Val Loss: {val_loss / len(cont_val):.4f}',\n",
    "    )"
   ]
  }
 ],
 "metadata": {
  "kernelspec": {
   "display_name": "Python 3",
   "language": "python",
   "name": "python3"
  },
  "language_info": {
   "name": "python",
   "version": "3.8"
  }
 },
 "nbformat": 4,
 "nbformat_minor": 5
}
